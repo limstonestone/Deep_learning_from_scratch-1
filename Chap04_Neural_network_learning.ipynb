{
  "nbformat": 4,
  "nbformat_minor": 0,
  "metadata": {
    "colab": {
      "name": "Chap04_Neural_network_learning.ipynb",
      "provenance": [],
      "collapsed_sections": [],
      "authorship_tag": "ABX9TyPxtycnRpq9lHzvwG3Ji2Nw"
    },
    "kernelspec": {
      "name": "python3",
      "display_name": "Python 3"
    },
    "language_info": {
      "name": "python"
    }
  },
  "cells": [
    {
      "cell_type": "markdown",
      "source": [
        "## **오차제곱합(sum of squares for error, SSE)**"
      ],
      "metadata": {
        "id": "r8VsZfPhF4A3"
      }
    },
    {
      "cell_type": "code",
      "source": [
        "import numpy as np"
      ],
      "metadata": {
        "id": "-1m0wMqWJVry"
      },
      "execution_count": 35,
      "outputs": []
    },
    {
      "cell_type": "code",
      "source": [
        "def sum_squares_error(y, t):       # y는 신경망의 출력(추정 값), t는 정답 레이블\n",
        "    return 0.5 * np.sum((y-t)**2)"
      ],
      "metadata": {
        "id": "JBZltbbKIovq"
      },
      "execution_count": 36,
      "outputs": []
    },
    {
      "cell_type": "code",
      "source": [
        "# 정답은 '2'\n",
        "t = [0, 0, 1, 0, 0, 0, 0, 0, 0, 0] # 1~10까지의 숫자 예측\n",
        "\n",
        "# 예1 : '2'일 확률이 가장 높다고 추정함 (0.6)\n",
        "y = [0.1, 0.05, 0.6, 0.0, 0.05, 0.1, 0.0, 0.1, 0.0, 0.0] # 소프트맥스로 출력한 확률 값\n",
        "sum_squares_error(np.array(y), np.array(t))"
      ],
      "metadata": {
        "colab": {
          "base_uri": "https://localhost:8080/"
        },
        "id": "Ez7y7Z6HI-qm",
        "outputId": "d893bb62-8c1e-47c4-a3bd-6ae234c16fba"
      },
      "execution_count": 37,
      "outputs": [
        {
          "output_type": "execute_result",
          "data": {
            "text/plain": [
              "0.09750000000000003"
            ]
          },
          "metadata": {},
          "execution_count": 37
        }
      ]
    },
    {
      "cell_type": "code",
      "source": [
        "# 예2 : '7'일 확률이 가장 높다고 추정함 (0.6)\n",
        "y = [0.1, 0.05, 0.1, 0.0, 0.05, 0.1, 0.0, 0.6, 0.0, 0.0]\n",
        "sum_squares_error(np.array(y), np.array(t))"
      ],
      "metadata": {
        "colab": {
          "base_uri": "https://localhost:8080/"
        },
        "id": "VUudEfIMJSgx",
        "outputId": "909368f7-e3af-4c0a-a439-329f7eaa3d1f"
      },
      "execution_count": 38,
      "outputs": [
        {
          "output_type": "execute_result",
          "data": {
            "text/plain": [
              "0.5975"
            ]
          },
          "metadata": {},
          "execution_count": 38
        }
      ]
    },
    {
      "cell_type": "markdown",
      "source": [
        "오차제곱합 기준으로 오차가 작은 <예1>이 정답에 가까움을 알 수 있음"
      ],
      "metadata": {
        "id": "w185zDYqJj6c"
      }
    },
    {
      "cell_type": "markdown",
      "source": [
        "## **교차 엔트로피 오차(cross entropy error, CEE)**"
      ],
      "metadata": {
        "id": "En6_Wbn5Jpvc"
      }
    },
    {
      "cell_type": "code",
      "source": [
        "def cross_entropy_error(y, t):\n",
        "    delta = 1e-7 # np.log의 진수가 0이되면 계산할 수 없으므로 아주 작은 값(delta)가 필요 \n",
        "    return -np.sum(t * np.log(y + delta)) # 정답이 아닐때는 t가 0이므로 결국에 정답일 때의 출력이 전체값을 정하게 됨"
      ],
      "metadata": {
        "id": "JkWpayeTKMlG"
      },
      "execution_count": 39,
      "outputs": []
    },
    {
      "cell_type": "code",
      "source": [
        "t = [0, 0, 1, 0, 0, 0, 0, 0, 0, 0]\n",
        "y = [0.1, 0.05, 0.6, 0.0, 0.05, 0.1, 0.0, 0.1, 0.0, 0.0]\n",
        "cross_entropy_error(np.array(y), np.array(t))"
      ],
      "metadata": {
        "colab": {
          "base_uri": "https://localhost:8080/"
        },
        "id": "q1s1xG2AKwsT",
        "outputId": "ffb3a626-454e-4628-8d61-3890717bd6e5"
      },
      "execution_count": 40,
      "outputs": [
        {
          "output_type": "execute_result",
          "data": {
            "text/plain": [
              "0.510825457099338"
            ]
          },
          "metadata": {},
          "execution_count": 40
        }
      ]
    },
    {
      "cell_type": "code",
      "source": [
        "y = [0.1, 0.05, 0.1, 0.0, 0.05, 0.1, 0.0, 0.6, 0.0, 0.0]\n",
        "cross_entropy_error(np.array(y), np.array(t))"
      ],
      "metadata": {
        "colab": {
          "base_uri": "https://localhost:8080/"
        },
        "id": "ZXIx9ayMK76V",
        "outputId": "036133f9-57da-42a1-8ca4-4140b8c50242"
      },
      "execution_count": 41,
      "outputs": [
        {
          "output_type": "execute_result",
          "data": {
            "text/plain": [
              "2.302584092994546"
            ]
          },
          "metadata": {},
          "execution_count": 41
        }
      ]
    },
    {
      "cell_type": "markdown",
      "source": [
        "정답을 맞춘 첫번째 예시가 교차 엔트로피 오차값이 작은 것을 알 수 있음"
      ],
      "metadata": {
        "id": "UMGcFM7xK_KN"
      }
    },
    {
      "cell_type": "markdown",
      "source": [
        "## **미니배치(mini-batch) 학습**"
      ],
      "metadata": {
        "id": "mJtBnlCdLIzN"
      }
    },
    {
      "cell_type": "code",
      "source": [
        "from google.colab import drive\n",
        "drive.mount('/content/drive')"
      ],
      "metadata": {
        "colab": {
          "base_uri": "https://localhost:8080/"
        },
        "id": "j9gpgs7XMLi1",
        "outputId": "a57b9f88-467b-47fb-e16d-96a92b7980d1"
      },
      "execution_count": 42,
      "outputs": [
        {
          "output_type": "stream",
          "name": "stdout",
          "text": [
            "Drive already mounted at /content/drive; to attempt to forcibly remount, call drive.mount(\"/content/drive\", force_remount=True).\n"
          ]
        }
      ]
    },
    {
      "cell_type": "code",
      "source": [
        "mnist_path = '/content/drive/MyDrive/밑바닥부터시작하는딥러닝/deep-learning-from-scratch-master'\n",
        "\n",
        "import sys\n",
        "sys.path.append(mnist_path)\n",
        "from dataset.mnist import load_mnist"
      ],
      "metadata": {
        "id": "y6JPS-A-LxMw"
      },
      "execution_count": 43,
      "outputs": []
    },
    {
      "cell_type": "code",
      "source": [
        "(x_train, t_train), (x_test, t_test) = load_mnist(normalize=True, one_hot_label=True) # 원-핫인코딩 되어 정답 위치의 원소만 1의 값을 가짐\n",
        "\n",
        "print(x_train.shape)\n",
        "print(t_train.shape)"
      ],
      "metadata": {
        "colab": {
          "base_uri": "https://localhost:8080/"
        },
        "id": "VyDmNo-JMHwz",
        "outputId": "29a4f09a-f501-4825-d4bf-f6715e906f71"
      },
      "execution_count": 44,
      "outputs": [
        {
          "output_type": "stream",
          "name": "stdout",
          "text": [
            "(60000, 784)\n",
            "(60000, 10)\n"
          ]
        }
      ]
    },
    {
      "cell_type": "code",
      "source": [
        "train_size = x_train.shape[0]\n",
        "batch_size = 10\n",
        "batch_mask = np.random.choice(train_size, batch_size) # 훈련 데이터에서 무작위로 10장을 추출\n",
        "x_batch = x_train[batch_mask]\n",
        "t_batch = t_train[batch_mask]"
      ],
      "metadata": {
        "id": "KGimeIdxNDST"
      },
      "execution_count": 45,
      "outputs": []
    },
    {
      "cell_type": "code",
      "source": [
        "np.random.choice(60000, 10)"
      ],
      "metadata": {
        "colab": {
          "base_uri": "https://localhost:8080/"
        },
        "id": "3ge_-OQ1NjhR",
        "outputId": "d46a7be4-6e5c-48f4-e734-18019d09ca97"
      },
      "execution_count": 46,
      "outputs": [
        {
          "output_type": "execute_result",
          "data": {
            "text/plain": [
              "array([57458, 33346, 56673, 31556, 40083,  3864, 49061, 33696, 16517,\n",
              "       16984])"
            ]
          },
          "metadata": {},
          "execution_count": 46
        }
      ]
    },
    {
      "cell_type": "markdown",
      "source": [
        "## **(배치용) 교차 엔트로피 오차 구현하기**"
      ],
      "metadata": {
        "id": "obrPOgKsOHN7"
      }
    },
    {
      "cell_type": "code",
      "source": [
        "def cross_entropy_error(y, t):\n",
        "    if y.ndim == 1: # 배치데이터가 아닌 경우\n",
        "        t = t.reshape(1, t.size)\n",
        "        y = y.reshape(1, y.size)\n",
        "    \n",
        "    batch_size = y.shape[0]\n",
        "    return -np.sum(t * np.log(y + 1e-7)) / batch_size # 평균 교차 엔트로피 오차 공식"
      ],
      "metadata": {
        "id": "BETpxGxRQkJk"
      },
      "execution_count": 47,
      "outputs": []
    },
    {
      "cell_type": "code",
      "source": [
        "# 정답 레이블이 원-핫 인코딩이 아니라 숫자 레이블로 주어졌을 경우\n",
        "\n",
        "def cross_entropy_error(y, t):\n",
        "    if y.ndim == 1: \n",
        "        t = t.reshape(1, t.size)\n",
        "        y = y.reshape(1, y.size)\n",
        "    \n",
        "    batch_size = y.shape[0]\n",
        "    return -np.sum(np.log(y[np.arange(batch_size), t] + 1e-7)) / batch_size # t가 0이 원소는 교차 엔트로피 오차가 0이므로, 그 계산은 무시\n",
        "\n",
        "#y[np.arange(batch_size), t]는 각 데이터의 정답 레이블에 해당하는 신경망의 출력을 추출 ex) y[0,2], y[1,7], y[2,0] ~"
      ],
      "metadata": {
        "id": "XNyQ6QUERIhL"
      },
      "execution_count": 48,
      "outputs": []
    },
    {
      "cell_type": "markdown",
      "source": [
        "## **왜 손실함수를 사용하는가?**\n",
        "\n",
        "* 정확도 지표나 계단함수는 불연속적이다. 즉 매개변수의 미분이 대부분의 장소에서 0이다. 정확도가 개선된다 하더라도 ex)32%에서 32.0123%같은 연속적인 변화가 일어나지 않고 33%나 34%처럼 불연속적인 띄엄띄엄한 값으로 바뀌어버린다."
      ],
      "metadata": {
        "id": "l_S--5y-TkjI"
      }
    },
    {
      "cell_type": "markdown",
      "source": [
        "## **미분**"
      ],
      "metadata": {
        "id": "ZNkR_tLtUpDn"
      }
    },
    {
      "cell_type": "code",
      "source": [
        "# 나쁜 구현 예\n",
        "def numeriacal_diff(f, x):\n",
        "    h = 1e-50\n",
        "    return (f(x + h) - f(x)) / h"
      ],
      "metadata": {
        "id": "0600UtErUz5L"
      },
      "execution_count": 49,
      "outputs": []
    },
    {
      "cell_type": "code",
      "source": [
        "np.float32(1e-50)"
      ],
      "metadata": {
        "colab": {
          "base_uri": "https://localhost:8080/"
        },
        "id": "RjrvC_iDU8MQ",
        "outputId": "2856259b-6eff-40a9-c00b-5ad3367d0d62"
      },
      "execution_count": 50,
      "outputs": [
        {
          "output_type": "execute_result",
          "data": {
            "text/plain": [
              "0.0"
            ]
          },
          "metadata": {},
          "execution_count": 50
        }
      ]
    },
    {
      "cell_type": "markdown",
      "source": [
        "* 문제점\n",
        "\n",
        "    1. 반올림 오차문제를 일으킨다.\n",
        "    2. 결국에는 h를 무한히 0으로 좁히지 못하여 접선이아닌 기울기에 해당한다."
      ],
      "metadata": {
        "id": "BaU9FYyyVEOW"
      }
    },
    {
      "cell_type": "code",
      "source": [
        "def numerical_diff(f, x): # 수치 미분의 문제점을 개선한 구현\n",
        "    h = 1e-4 # 0.0001\n",
        "    return (f(x+h) - f(x-h)) / (2*h)"
      ],
      "metadata": {
        "id": "pcoWTUp8VUWO"
      },
      "execution_count": 51,
      "outputs": []
    },
    {
      "cell_type": "markdown",
      "source": [
        "## **수치 미분의 예**"
      ],
      "metadata": {
        "id": "HmsZwOdUVtty"
      }
    },
    {
      "cell_type": "code",
      "source": [
        "def function_1(x):\n",
        "    return 0.01*x**2 + 0.1*x"
      ],
      "metadata": {
        "id": "kro-5tmeV5kW"
      },
      "execution_count": 52,
      "outputs": []
    },
    {
      "cell_type": "code",
      "source": [
        "import numpy as np\n",
        "import matplotlib.pyplot as plt\n",
        "\n",
        "x = np.arange(0.0, 20.0, 0.1) # 0에서 20까지 0.1 간격의 배열 x를 만든다(20은 미포함)\n",
        "y = function_1(x)\n",
        "plt.xlabel('x')\n",
        "plt.ylabel('y')\n",
        "plt.plot(x, y)\n",
        "plt.show()"
      ],
      "metadata": {
        "colab": {
          "base_uri": "https://localhost:8080/",
          "height": 279
        },
        "id": "TWE4h8UqV-pI",
        "outputId": "522f0dc5-1878-4d48-b4bb-842282aba67e"
      },
      "execution_count": 53,
      "outputs": [
        {
          "output_type": "display_data",
          "data": {
            "image/png": "[encoded data removed]",
            "text/plain": [
              "<Figure size 432x288 with 1 Axes>"
            ]
          },
          "metadata": {
            "needs_background": "light"
          }
        }
      ]
    },
    {
      "cell_type": "code",
      "source": [
        "numerical_diff(function_1, 5)"
      ],
      "metadata": {
        "colab": {
          "base_uri": "https://localhost:8080/"
        },
        "id": "cWipEcnaWKFW",
        "outputId": "3c9c7eba-3809-4c8e-9292-9d061d8c5c1d"
      },
      "execution_count": 54,
      "outputs": [
        {
          "output_type": "execute_result",
          "data": {
            "text/plain": [
              "0.1999999999990898"
            ]
          },
          "metadata": {},
          "execution_count": 54
        }
      ]
    },
    {
      "cell_type": "code",
      "source": [
        "numerical_diff(function_1, 10)"
      ],
      "metadata": {
        "colab": {
          "base_uri": "https://localhost:8080/"
        },
        "id": "Zu5HAFYxWQi5",
        "outputId": "d67b7471-56b1-4332-9008-9df70b04878f"
      },
      "execution_count": 55,
      "outputs": [
        {
          "output_type": "execute_result",
          "data": {
            "text/plain": [
              "0.2999999999986347"
            ]
          },
          "metadata": {},
          "execution_count": 55
        }
      ]
    },
    {
      "cell_type": "markdown",
      "source": [
        "실제 해석적 미분의 해와 거의 같음을 알 수 있음"
      ],
      "metadata": {
        "id": "R9YqtyFbWXMm"
      }
    },
    {
      "cell_type": "markdown",
      "source": [
        "## **편미분** "
      ],
      "metadata": {
        "id": "s1pn-UxMWcP8"
      }
    },
    {
      "cell_type": "code",
      "source": [
        "def function_2(x):\n",
        "    return x[0]**2 + x[1]**2 # 또는 return np.sum(x**2)"
      ],
      "metadata": {
        "id": "IZliACxEYBGK"
      },
      "execution_count": 56,
      "outputs": []
    },
    {
      "cell_type": "markdown",
      "source": [
        "## **기울기(gradient)**"
      ],
      "metadata": {
        "id": "_zq3m64gYGkA"
      }
    },
    {
      "cell_type": "code",
      "source": [
        "def numerical_gradient(f, x):\n",
        "    h = 1e-4 # 0.0001\n",
        "    grad = np.zeros_like(x) # x와 형상이 같은 배열을 생성\n",
        "\n",
        "    for idx in range(x.size):\n",
        "        tmp_val = x[idx]\n",
        "        \n",
        "        # f(x+h) 계산\n",
        "        x[idx] = tmp_val + h\n",
        "        fxh1 = f(x)\n",
        "        \n",
        "        # f(x-h) 계산\n",
        "        x[idx] = tmp_val - h\n",
        "        fxh2 = f(x)\n",
        "\n",
        "        grad[idx] = (fxh1 - fxh2) / (2*h)\n",
        "        x[idx] = tmp_val # 값 복원\n",
        "\n",
        "    return grad"
      ],
      "metadata": {
        "id": "QTEAXVseYX_l"
      },
      "execution_count": 57,
      "outputs": []
    },
    {
      "cell_type": "code",
      "source": [
        "from mpl_toolkits.mplot3d import Axes3D\n",
        "\n",
        "\n",
        "def _numerical_gradient_no_batch(f, x):\n",
        "    h = 1e-4 # 0.0001\n",
        "    grad = np.zeros_like(x) # x와 형상이 같은 배열을 생성\n",
        "    \n",
        "    for idx in range(x.size):\n",
        "        tmp_val = x[idx]\n",
        "        \n",
        "        # f(x+h) 계산\n",
        "        x[idx] = float(tmp_val) + h\n",
        "        fxh1 = f(x)\n",
        "        \n",
        "        # f(x-h) 계산\n",
        "        x[idx] = tmp_val - h \n",
        "        fxh2 = f(x) \n",
        "        \n",
        "        grad[idx] = (fxh1 - fxh2) / (2*h)\n",
        "        x[idx] = tmp_val # 값 복원\n",
        "        \n",
        "    return grad\n",
        "\n",
        "\n",
        "def numerical_gradient(f, X):\n",
        "    if X.ndim == 1:\n",
        "        return _numerical_gradient_no_batch(f, X)\n",
        "    else:\n",
        "        grad = np.zeros_like(X)\n",
        "        \n",
        "        for idx, x in enumerate(X):\n",
        "            grad[idx] = _numerical_gradient_no_batch(f, x)\n",
        "        \n",
        "        return grad\n",
        "\n",
        "\n",
        "def function_2(x):\n",
        "    if x.ndim == 1:\n",
        "        return np.sum(x**2)\n",
        "    else:\n",
        "        return np.sum(x**2, axis=1)\n",
        "\n",
        "\n",
        "def tangent_line(f, x):\n",
        "    d = numerical_gradient(f, x)\n",
        "    print(d)\n",
        "    y = f(x) - d*x\n",
        "    return lambda t: d*t + y\n",
        "     \n",
        "if __name__ == '__main__':\n",
        "    x0 = np.arange(-2, 2.5, 0.25)\n",
        "    x1 = np.arange(-2, 2.5, 0.25)\n",
        "    X, Y = np.meshgrid(x0, x1)\n",
        "    \n",
        "    X = X.flatten()\n",
        "    Y = Y.flatten()\n",
        "    \n",
        "    grad = numerical_gradient(function_2, np.array([X, Y]) )\n",
        "    \n",
        "    plt.figure()\n",
        "    plt.quiver(X, Y, -grad[0], -grad[1],  angles=\"xy\",color=\"#666666\")#,headwidth=10,scale=40,color=\"#444444\")\n",
        "    plt.xlim([-2, 2])\n",
        "    plt.ylim([-2, 2])\n",
        "    plt.xlabel('x0')\n",
        "    plt.ylabel('x1')\n",
        "    plt.grid()\n",
        "    plt.draw()\n",
        "    plt.title('$f(x_0,x_1)=x_0^2 + x_1^2$ gradient')\n",
        "    plt.show()"
      ],
      "metadata": {
        "id": "rkSD3mwkZDt9",
        "colab": {
          "base_uri": "https://localhost:8080/",
          "height": 299
        },
        "outputId": "a883739f-58b2-4fb4-a84b-21e120f45696"
      },
      "execution_count": 66,
      "outputs": [
        {
          "output_type": "display_data",
          "data": {
            "image/png": "[encoded data removed]",
            "text/plain": [
              "<Figure size 432x288 with 1 Axes>"
            ]
          },
          "metadata": {
            "needs_background": "light"
          }
        }
      ]
    },
    {
      "cell_type": "markdown",
      "source": [
        "**기울기가 가리키는 쪽은 각 장소에서 함수의 출력 값을 가장 크게 줄이는 방향**"
      ],
      "metadata": {
        "id": "OTRr7l5_c30d"
      }
    },
    {
      "cell_type": "markdown",
      "source": [
        "## **경사법(경사 하강법)**"
      ],
      "metadata": {
        "id": "RkZ6BI6adclU"
      }
    },
    {
      "cell_type": "code",
      "source": [
        "def gradient_descent(f, init_x, lr=0.01, step_num=100): # f는 최적화하려는 함수, init_x는 초깃값, lr은 학습률(learning rate), step_num은 경사법에 따른 반복 횟수\n",
        "    x = init_x\n",
        "\n",
        "    for i in range(step_num):\n",
        "        grad = numerical_gradient(f, x)\n",
        "        x -= lr * grad # 경사법 수식\n",
        "    return x"
      ],
      "metadata": {
        "id": "-OvoroNHeC8u"
      },
      "execution_count": 68,
      "outputs": []
    },
    {
      "cell_type": "markdown",
      "source": [
        "이 함수를 통해 극솟값을 구할 수 있고, 잘하면 최솟값을 구할 수도 있음"
      ],
      "metadata": {
        "id": "YrAHYaJee6DA"
      }
    },
    {
      "cell_type": "code",
      "source": [
        "def function_2(x):\n",
        "    return x[0]**2 + x[1]**2\n",
        "\n",
        "init_x = np.array([-3.0, 4.0])\n",
        "gradient_descent(function_2, init_x=init_x, lr=0.1, step_num=100)"
      ],
      "metadata": {
        "colab": {
          "base_uri": "https://localhost:8080/"
        },
        "id": "Q88XqnoXfGTO",
        "outputId": "a551759e-0d16-4d7b-a52b-12c6acb81652"
      },
      "execution_count": 69,
      "outputs": [
        {
          "output_type": "execute_result",
          "data": {
            "text/plain": [
              "array([-6.11110793e-10,  8.14814391e-10])"
            ]
          },
          "metadata": {},
          "execution_count": 69
        }
      ]
    },
    {
      "cell_type": "markdown",
      "source": [
        "실제 최솟값이 (0, 0)이므로 경사법으로 거의 정확한 결과를 얻음"
      ],
      "metadata": {
        "id": "MRUqrC_KfdrO"
      }
    },
    {
      "cell_type": "code",
      "source": [
        "# 학습률에 대한 두가지 실험\n",
        "\n",
        "# 학습률이 너무 큰 예 : lr=10.0\n",
        "gradient_descent(function_2, init_x=init_x, lr=10.0, step_num=100)"
      ],
      "metadata": {
        "colab": {
          "base_uri": "https://localhost:8080/"
        },
        "id": "gbggkCVCfhTA",
        "outputId": "69daff3b-35ee-4443-f82f-3914d281080c"
      },
      "execution_count": 70,
      "outputs": [
        {
          "output_type": "execute_result",
          "data": {
            "text/plain": [
              "array([ 2.34235971e+12, -3.96091057e+12])"
            ]
          },
          "metadata": {},
          "execution_count": 70
        }
      ]
    },
    {
      "cell_type": "code",
      "source": [
        "# 학습률이 너무 작은 예 : lr=1e-10\n",
        "gradient_descent(function_2, init_x=init_x, lr=1e-10, step_num=100)"
      ],
      "metadata": {
        "colab": {
          "base_uri": "https://localhost:8080/"
        },
        "id": "aEWcbLINfq27",
        "outputId": "35575ba9-416d-4066-efd1-91e3179d1cc2"
      },
      "execution_count": 71,
      "outputs": [
        {
          "output_type": "execute_result",
          "data": {
            "text/plain": [
              "array([ 2.34235971e+12, -3.96091057e+12])"
            ]
          },
          "metadata": {},
          "execution_count": 71
        }
      ]
    },
    {
      "cell_type": "markdown",
      "source": [
        "* 학습률이 너무 큰 예 : 발산해버림\n",
        "* 학습률이 너무 작은 예 : 갱신되지 않은 채 끝나버림\n",
        "\n",
        "따라서 학습률을 적절히 설정하는 일이 중요함을 알 수 있음"
      ],
      "metadata": {
        "id": "QzuyCuS5fuOU"
      }
    },
    {
      "cell_type": "markdown",
      "source": [
        "## **신경망에서의 기울기**"
      ],
      "metadata": {
        "id": "fCO4tNXQf255"
      }
    },
    {
      "cell_type": "code",
      "source": [
        "from common.functions import softmax, cross_entropy_error\n",
        "from common.gradient import numerical_gradient\n",
        "\n",
        "class simpleNet:\n",
        "    def __init__(self):\n",
        "        self.W = np.random.randn(2, 3)\n",
        "\n",
        "    def predict(self, x):\n",
        "        return np.dot(x, self.W)\n",
        "\n",
        "    def loss(self, x, t):\n",
        "        z = self.predict(x)\n",
        "        y = softmax(z)\n",
        "        loss = cross_entropy_error(y, t)\n",
        "\n",
        "        return loss"
      ],
      "metadata": {
        "id": "8Dala0Bug4J8"
      },
      "execution_count": 72,
      "outputs": []
    },
    {
      "cell_type": "code",
      "source": [
        "net = simpleNet()\n",
        "print(net.W)"
      ],
      "metadata": {
        "colab": {
          "base_uri": "https://localhost:8080/"
        },
        "id": "JEV-Gndxha7v",
        "outputId": "07dadc4b-7504-422c-a11d-5d50f42413a1"
      },
      "execution_count": 73,
      "outputs": [
        {
          "output_type": "stream",
          "name": "stdout",
          "text": [
            "[[ 1.16603165  0.75107585  0.73433659]\n",
            " [-0.78316383 -0.97731875 -0.23348757]]\n"
          ]
        }
      ]
    },
    {
      "cell_type": "code",
      "source": [
        "x = np.array([0.6, 0.9])\n",
        "p = net.predict(x)\n",
        "print(p)"
      ],
      "metadata": {
        "colab": {
          "base_uri": "https://localhost:8080/"
        },
        "id": "BNZA0SyNheK9",
        "outputId": "8636df39-aa96-4395-a146-cff5bb74cc5e"
      },
      "execution_count": 75,
      "outputs": [
        {
          "output_type": "stream",
          "name": "stdout",
          "text": [
            "[-0.00522846 -0.42894136  0.23046314]\n"
          ]
        }
      ]
    },
    {
      "cell_type": "code",
      "source": [
        "np.argmax(p) # 최댓값의 인덱스"
      ],
      "metadata": {
        "colab": {
          "base_uri": "https://localhost:8080/"
        },
        "id": "cMJJ3hO8hjZx",
        "outputId": "065872e9-f8a8-4023-9af6-e6dd7f8c9856"
      },
      "execution_count": 76,
      "outputs": [
        {
          "output_type": "execute_result",
          "data": {
            "text/plain": [
              "2"
            ]
          },
          "metadata": {},
          "execution_count": 76
        }
      ]
    },
    {
      "cell_type": "code",
      "source": [
        "t = np.array([0, 0, 1]) # 정답 레이블\n",
        "net.loss(x, t)"
      ],
      "metadata": {
        "colab": {
          "base_uri": "https://localhost:8080/"
        },
        "id": "EjZRTz8FhnBM",
        "outputId": "d919f208-bb05-429e-d957-8ae3dd94619e"
      },
      "execution_count": 77,
      "outputs": [
        {
          "output_type": "execute_result",
          "data": {
            "text/plain": [
              "0.8360272836551538"
            ]
          },
          "metadata": {},
          "execution_count": 77
        }
      ]
    },
    {
      "cell_type": "code",
      "source": [
        "def f(W):\n",
        "    return net.loss(x, t)\n",
        "\n",
        "dW = numerical_gradient(f, net.W)\n",
        "print(dW)"
      ],
      "metadata": {
        "colab": {
          "base_uri": "https://localhost:8080/"
        },
        "id": "eB_h9aUjhpoM",
        "outputId": "1994bd04-c37a-4832-d36a-3072a4651c3a"
      },
      "execution_count": 78,
      "outputs": [
        {
          "output_type": "stream",
          "name": "stdout",
          "text": [
            "[[ 0.20545157  0.13449102 -0.33994258]\n",
            " [ 0.30817735  0.20173653 -0.50991387]]\n"
          ]
        }
      ]
    },
    {
      "cell_type": "code",
      "source": [
        "f = lambda w: net.loss(x, t)\n",
        "dW = numerical_gradient(f, net.W)\n",
        "print(dW)"
      ],
      "metadata": {
        "colab": {
          "base_uri": "https://localhost:8080/"
        },
        "id": "GR08KatRh1Fu",
        "outputId": "e2f0ba9e-80f3-4d33-93dc-b41e98315e89"
      },
      "execution_count": 80,
      "outputs": [
        {
          "output_type": "stream",
          "name": "stdout",
          "text": [
            "[[ 0.20545157  0.13449102 -0.33994258]\n",
            " [ 0.30817735  0.20173653 -0.50991387]]\n"
          ]
        }
      ]
    },
    {
      "cell_type": "markdown",
      "source": [
        "* $w_{11}$을 $h$ 만큼 늘리면 손실 함수의 값은 $0.2h$만큼 증가 -> 음의 방향으로 갱신해야 함\n",
        "\n",
        "* $w_{23}$을 $h$만큼 늘리면 손실 함수의 값은 $0.5h$만큼 감소 -> 양의 방향으로 갱신해야 함\n",
        "\n",
        "* 한번에 갱신되는 양에는 $w_{23}$이 $w_{11}$보다 크게 기여함"
      ],
      "metadata": {
        "id": "4mdXvjzbiFrQ"
      }
    },
    {
      "cell_type": "markdown",
      "source": [
        "## **2층 신경망 클래스 구현하기**"
      ],
      "metadata": {
        "id": "AHyymBEOilNT"
      }
    },
    {
      "cell_type": "code",
      "source": [
        "from common.functions import *\n",
        "from common.gradient import numerical_gradient\n",
        "\n",
        "class TwoLayerNet:\n",
        "    def __init__(self, input_size, hidden_size, output_size, weight_init_std=0.01):\n",
        "\n",
        "        # 가중치 초기화\n",
        "        self.params = {}\n",
        "        self.params['W1'] = weight_init_std * np.random.randn(input_size, hidden_size)\n",
        "        self.params['b1'] = np.zeros(hidden_size)\n",
        "        self.params['W2'] = weight_init_std * np.random.randn(hidden_size, output_size)\n",
        "        self.params['b2'] = np.zeros(output_size)\n",
        "\n",
        "    def predict(self, x):\n",
        "        W1, W2 = self.params['W1'], self.params['W2']\n",
        "        b1, b2 = self.params['b1'], self.params['b2']\n",
        "\n",
        "        a1 = np.dot(x, W1) + b1\n",
        "        z1 = sigmoid(a1)\n",
        "        a2 = np.dot(z1, W2) + b2\n",
        "        y = softmax(a2)\n",
        "\n",
        "        return y\n",
        "\n",
        "    def loss(self, x, t):\n",
        "        y = self.predict(x)\n",
        "\n",
        "        return cross_entropy_error(y, t)\n",
        "\n",
        "    def accuracy(self, x, t):\n",
        "        y = self.predict(x)\n",
        "        y = np.argmax(y, axis=1)\n",
        "        t = np.argmax(t, axis=1)\n",
        "\n",
        "        accuracy = np.sum(y == t) / float(x.shape[0])\n",
        "        return accuracy\n",
        "\n",
        "    # x : 입력 데이터, t : 정답 레이블\n",
        "    # def numerical_gradient(self, x, t):\n",
        "    #     loss_W = lambda W: self.loss(x, t)\n",
        "\n",
        "    #     grads = {}\n",
        "    #     grads['W1'] = numerical_gradient(loss_W, self.params['W1'])\n",
        "    #     grads['b1'] = numerical_gradient(loss_W, self.params['b1'])\n",
        "    #     grads['W2'] = numerical_gradient(loss_W, self.params['W2'])\n",
        "    #     grads['b2'] = numerical_gradient(loss_W, self.params['b2'])\n",
        "\n",
        "    #     return grads\n",
        "\n",
        "    def gradient(self, x, t): # 차후 설명할 오차역전파 방법(학습 시간절약)\n",
        "        W1, W2 = self.params['W1'], self.params['W2']\n",
        "        b1, b2 = self.params['b1'], self.params['b2']\n",
        "        grads = {}\n",
        "        \n",
        "        batch_num = x.shape[0]\n",
        "        \n",
        "        # forward\n",
        "        a1 = np.dot(x, W1) + b1\n",
        "        z1 = sigmoid(a1)\n",
        "        a2 = np.dot(z1, W2) + b2\n",
        "        y = softmax(a2)\n",
        "        \n",
        "        # backward\n",
        "        dy = (y - t) / batch_num\n",
        "        grads['W2'] = np.dot(z1.T, dy)\n",
        "        grads['b2'] = np.sum(dy, axis=0)\n",
        "        \n",
        "        da1 = np.dot(dy, W2.T)\n",
        "        dz1 = sigmoid_grad(a1) * da1\n",
        "        grads['W1'] = np.dot(x.T, dz1)\n",
        "        grads['b1'] = np.sum(dz1, axis=0)\n",
        "\n",
        "        return grads"
      ],
      "metadata": {
        "id": "zKKXYHG4jjF-"
      },
      "execution_count": 99,
      "outputs": []
    },
    {
      "cell_type": "code",
      "source": [
        "net = TwoLayerNet(input_size=784, hidden_size=100, output_size=10)\n",
        "print('net.params[\"W1\"].shape : ', net.params['W1'].shape)\n",
        "print('net.params[\"b1\"].shape : ', net.params['b1'].shape)\n",
        "print('net.params[\"W2\"].shape : ', net.params['W2'].shape)\n",
        "print('net.params[\"b2\"].shape : ', net.params['b2'].shape)\n"
      ],
      "metadata": {
        "colab": {
          "base_uri": "https://localhost:8080/"
        },
        "id": "MAutU8fsk5mS",
        "outputId": "b57b6510-1413-4071-fcbe-805bc55e25a5"
      },
      "execution_count": 100,
      "outputs": [
        {
          "output_type": "stream",
          "name": "stdout",
          "text": [
            "net.params[\"W1\"].shape :  (784, 100)\n",
            "net.params[\"b1\"].shape :  (100,)\n",
            "net.params[\"W2\"].shape :  (100, 10)\n",
            "net.params[\"b2\"].shape :  (10,)\n"
          ]
        }
      ]
    },
    {
      "cell_type": "code",
      "source": [
        "x = np.random.rand(100, 784) # 더미 입력 데이터(100장 분량)\n",
        "y = net.predict(x)\n",
        "t = np.random.rand(100, 10) # 더미 정답 레이블(100장 분량)\n",
        "\n",
        "grads = net.gradient(x, t) # 기울기 계산\n",
        "print('grads[\"W1\"].shape : ', grads['W1'].shape)\n",
        "print('grads[\"b1\"].shape : ', grads['b1'].shape)\n",
        "print('grads[\"W2\"].shape : ', grads['W2'].shape)\n",
        "print('grads[\"b2\"].shape : ', grads['b2'].shape)"
      ],
      "metadata": {
        "colab": {
          "base_uri": "https://localhost:8080/"
        },
        "id": "IDaz_gpulQpV",
        "outputId": "fb21990c-cc94-408a-bd14-ff83a7595da9"
      },
      "execution_count": 101,
      "outputs": [
        {
          "output_type": "stream",
          "name": "stdout",
          "text": [
            "grads[\"W1\"].shape :  (784, 100)\n",
            "grads[\"b1\"].shape :  (100,)\n",
            "grads[\"W2\"].shape :  (100, 10)\n",
            "grads[\"b2\"].shape :  (10,)\n"
          ]
        }
      ]
    },
    {
      "cell_type": "markdown",
      "source": [
        "## **미니배치 학습 구현하기**"
      ],
      "metadata": {
        "id": "hXyiL6xbm3EA"
      }
    },
    {
      "cell_type": "code",
      "source": [
        "(x_train, t_train), (x_test, t_test) = load_mnist(normalize=True, one_hot_label=True)\n",
        "\n",
        "train_loss_list = []\n",
        "\n",
        "# 하이퍼 파라미터\n",
        "iters_num = 10000 # 반복 횟수\n",
        "train_size = x_train.shape[0]\n",
        "batch_size = 100 # 미니배치 크기\n",
        "learning_rate = 0.1\n",
        "\n",
        "network = TwoLayerNet(input_size=784, hidden_size=50, output_size=10)\n",
        "\n",
        "for i in range(iters_num):\n",
        "    # 미니배치 획득\n",
        "    batch_mask = np.random.choice(train_size, batch_size)\n",
        "    x_batch = x_train[batch_mask]\n",
        "    t_batch = t_train[batch_mask]\n",
        "\n",
        "    # 기울기 계산\n",
        "    grad = network.gradient(x_batch, t_batch)\n",
        "    # grad = network.gradient(x_batch, t_batch) # 오차역전파법을 사용한 성능 개선판, 차후 설명\n",
        "\n",
        "    # 매개변수 갱신\n",
        "    for key in ('W1', 'b1', 'W2', 'b2'):\n",
        "        network.params[key] -= learning_rate * grad[key]\n",
        "\n",
        "    # 학습 경과 기록\n",
        "    loss = network.loss(x_batch, t_batch)\n",
        "    train_loss_list.append(loss)"
      ],
      "metadata": {
        "id": "w2cO7VeBnfUA"
      },
      "execution_count": 102,
      "outputs": []
    },
    {
      "cell_type": "markdown",
      "source": [
        "그래프를 확인해보면, 확률적 경사 하강법(stochastic gradient descent)을 통해 데이터를 반복해서 학습함으로써 최적 가중치 매개변수로 서서히 다가감을 알 수 있음"
      ],
      "metadata": {
        "id": "uU1TqrWsocY0"
      }
    },
    {
      "cell_type": "markdown",
      "source": [
        "## **시험 데이터로 평가하기**"
      ],
      "metadata": {
        "id": "p3iSS5-0o199"
      }
    },
    {
      "cell_type": "code",
      "source": [
        "(x_train, t_train), (x_test, t_test) = load_mnist(normalize=True, one_hot_label=True)\n",
        "\n",
        "train_loss_list = []\n",
        "train_acc_list = [] # 훈련 평가 지표\n",
        "test_acc_list = [] # 테스트 평가 지표\n",
        "\n",
        "# 하이퍼 파라미터\n",
        "iters_num = 10000 # 반복 횟수\n",
        "train_size = x_train.shape[0]\n",
        "batch_size = 100 # 미니배치 크기\n",
        "learning_rate = 0.1\n",
        "\n",
        "# 1에폭당 반복 수 (1에폭(epoch)은 학습에서 훈련 데이터를 모두 소진했을 때의 횟수)\n",
        "iter_per_epoch = max(train_size / batch_size, 1)\n",
        "\n",
        "network = TwoLayerNet(input_size=784, hidden_size=50, output_size=10)\n",
        "\n",
        "for i in range(iters_num):\n",
        "    # 미니배치 획득\n",
        "    batch_mask = np.random.choice(train_size, batch_size)\n",
        "    x_batch = x_train[batch_mask]\n",
        "    t_batch = t_train[batch_mask]\n",
        "\n",
        "    # 기울기 계산\n",
        "    # grad = network.numerical_gradient(x_batch, t_batch)\n",
        "    grad = network.gradient(x_batch, t_batch) # 오차역전파법을 사용한 성능 개선판, 차후 설명\n",
        "\n",
        "    # 매개변수 갱신\n",
        "    for key in ('W1', 'b1', 'W2', 'b2'):\n",
        "        network.params[key] -= learning_rate * grad[key]\n",
        "\n",
        "    # 학습 경과 기록\n",
        "    loss = network.loss(x_batch, t_batch)\n",
        "    train_loss_list.append(loss)\n",
        "\n",
        "    # 1에폭당 정확도 계산\n",
        "    if i % iter_per_epoch == 0:\n",
        "        train_acc = network.accuracy(x_train, t_train)\n",
        "        test_acc = network.accuracy(x_test, t_test)\n",
        "        train_acc_list.append(train_acc)\n",
        "        test_acc_list.append(test_acc)\n",
        "        print(\"train acc, test acc : \" + str(train_acc) + \",\" + str(test_acc))"
      ],
      "metadata": {
        "colab": {
          "base_uri": "https://localhost:8080/"
        },
        "id": "LOFM4eA8o43e",
        "outputId": "f4837c2c-0ec8-4895-f887-c950616fc69e"
      },
      "execution_count": 103,
      "outputs": [
        {
          "output_type": "stream",
          "name": "stdout",
          "text": [
            "train acc, test acc : 0.09915,0.1009\n",
            "train acc, test acc : 0.78595,0.7935\n",
            "train acc, test acc : 0.8780166666666667,0.8823\n",
            "train acc, test acc : 0.8983666666666666,0.9024\n",
            "train acc, test acc : 0.9073833333333333,0.9081\n",
            "train acc, test acc : 0.9141166666666667,0.915\n",
            "train acc, test acc : 0.9178333333333333,0.9197\n",
            "train acc, test acc : 0.9227666666666666,0.9249\n",
            "train acc, test acc : 0.92635,0.9274\n",
            "train acc, test acc : 0.9304,0.9305\n",
            "train acc, test acc : 0.9334333333333333,0.9345\n",
            "train acc, test acc : 0.9358166666666666,0.9365\n",
            "train acc, test acc : 0.9383666666666667,0.9389\n",
            "train acc, test acc : 0.9401333333333334,0.941\n",
            "train acc, test acc : 0.9432333333333334,0.9422\n",
            "train acc, test acc : 0.9449166666666666,0.9433\n",
            "train acc, test acc : 0.9459666666666666,0.945\n"
          ]
        }
      ]
    },
    {
      "cell_type": "code",
      "source": [
        "# 그래프 그리기\n",
        "markers = {'train': 'o', 'test': 's'}\n",
        "x = np.arange(len(train_acc_list))\n",
        "plt.plot(x, train_acc_list, label='train acc')\n",
        "plt.plot(x, test_acc_list, label='test acc', linestyle='--')\n",
        "plt.xlabel(\"epochs\")\n",
        "plt.ylabel(\"accuracy\")\n",
        "plt.ylim(0, 1.0)\n",
        "plt.legend(loc='lower right')\n",
        "plt.show()"
      ],
      "metadata": {
        "colab": {
          "base_uri": "https://localhost:8080/",
          "height": 283
        },
        "id": "zMock6IBq7QB",
        "outputId": "f90b9ea1-fbe6-4d26-b80b-c58156070cae"
      },
      "execution_count": 104,
      "outputs": [
        {
          "output_type": "display_data",
          "data": {
            "image/png": "[encoded data removed]",
            "text/plain": [
              "<Figure size 432x288 with 1 Axes>"
            ]
          },
          "metadata": {
            "needs_background": "light"
          }
        }
      ]
    },
    {
      "cell_type": "markdown",
      "source": [
        "* 에폭이 진행될수록(학습이 진행될수록) 훈련 데이터와 시험 데이터를 사용하고 평가한 정확도가 모두 좋아지고 있으며, 두 정확도에는 차이가 없음을 알 수 있음\n",
        "\n",
        "* 다시 말해 이번 학습에서 오버피팅이 일어나지 않았음\n",
        "(만약 오버피팅이 일어난다면 시험 데이터에 대한 정확도가 점점 떨어질 것)"
      ],
      "metadata": {
        "id": "3sS15PtKrTeJ"
      }
    },
    {
      "cell_type": "markdown",
      "source": [
        "# **정리**\n",
        "\n",
        "* **기계학습에서 사용하는 데이터셋은 훈련 데이터와 시험 데이터로 나눠 사용한다.**\n",
        "* **훈련 데이터로 학습한 모델의 범용 능력을 시험 데이터로 평가한다.**\n",
        "* **신경망 학습은 손실 함수를 지표로, 손실 함수의 값이 작아지는 방향으로 가중치 매개변수를 갱신한다.**\n",
        "* **가중치 매개변수를 갱신할 때는 가중치 매개변수의 기울기를 이용하고, 기울어진 방향으로 가중치의 값을 갱신하는 작업을 반복한다.**\n",
        "* **아주 작은 값을 주었을 때의 차분으로 미분하는 것을 수치 미분이라고 한다.**\n",
        "* **수치 미분을 이용해 가중치 매개변수의 기울기를 구할 수 있다.**\n",
        "* **수치 미분을 이용한 계산에는 시간이 걸리지만, 그 구현은 간단하다. 한편, 다음 장에서 구현하는(다소 복잡한) 오차 역전파법은 기울기를 고속으로 구할 수 있다.**"
      ],
      "metadata": {
        "id": "r9uwUh_Vrhh4"
      }
    }
  ]
}