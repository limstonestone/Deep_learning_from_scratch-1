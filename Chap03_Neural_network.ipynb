{
  "cells": [
    {
      "cell_type": "markdown",
      "metadata": {
        "id": "bipf6nk6tKGb"
      },
      "source": [
        "## **계단 함수 구현하기**"
      ]
    },
    {
      "cell_type": "code",
      "execution_count": null,
      "metadata": {
        "id": "Vfp7ru8uvHAP"
      },
      "outputs": [],
      "source": [
        "def step_function(x): # 인수 x는 실수(부동소수점)만 받아들임, 즉 넘파이 배열을 인수로 넣을 수는 없음\n",
        "    if x > 0:\n",
        "        return 1\n",
        "    else:\n",
        "        return 0"
      ]
    },
    {
      "cell_type": "code",
      "execution_count": null,
      "metadata": {
        "id": "NV4-CwhavP2o"
      },
      "outputs": [],
      "source": [
        "def step_function(x): # 넘파이 배열도 인수로 지원함 (넘파이의 '트릭'이용)\n",
        "    y = x > 0\n",
        "    return y.astype(np.int)"
      ]
    },
    {
      "cell_type": "code",
      "execution_count": null,
      "metadata": {
        "colab": {
          "base_uri": "https://localhost:8080/"
        },
        "id": "S8X3ahZgvaMl",
        "outputId": "742b7137-1a4c-4561-b4a8-b59c80cef087"
      },
      "outputs": [
        {
          "output_type": "execute_result",
          "data": {
            "text/plain": [
              "array([-1.,  1.,  2.])"
            ]
          },
          "metadata": {},
          "execution_count": 3
        }
      ],
      "source": [
        "import numpy as np\n",
        "x = np.array([-1.0, 1.0, 2.0])\n",
        "x"
      ]
    },
    {
      "cell_type": "code",
      "execution_count": null,
      "metadata": {
        "colab": {
          "base_uri": "https://localhost:8080/"
        },
        "id": "idR_Y-QHvo4f",
        "outputId": "b760a60c-7095-43a9-e694-ab816bd5dfd2"
      },
      "outputs": [
        {
          "output_type": "execute_result",
          "data": {
            "text/plain": [
              "array([False,  True,  True])"
            ]
          },
          "metadata": {},
          "execution_count": 4
        }
      ],
      "source": [
        "y = x > 0\n",
        "y"
      ]
    },
    {
      "cell_type": "code",
      "execution_count": null,
      "metadata": {
        "colab": {
          "base_uri": "https://localhost:8080/"
        },
        "id": "rlUU3mIUvq3C",
        "outputId": "fe0cbb7e-7134-43fe-9437-1bdafeb1f9b6"
      },
      "outputs": [
        {
          "output_type": "execute_result",
          "data": {
            "text/plain": [
              "array([0, 1, 1])"
            ]
          },
          "metadata": {},
          "execution_count": 5
        }
      ],
      "source": [
        "y = y.astype(np.int)\n",
        "y"
      ]
    },
    {
      "cell_type": "markdown",
      "metadata": {
        "id": "v5MXR3C5vw9q"
      },
      "source": [
        "## **계단 함수의 그래프**"
      ]
    },
    {
      "cell_type": "code",
      "execution_count": null,
      "metadata": {
        "colab": {
          "base_uri": "https://localhost:8080/",
          "height": 265
        },
        "id": "NmPcIUPUv8VM",
        "outputId": "1596586e-cb35-423c-a9f8-9d08173ac899"
      },
      "outputs": [
        {
          "output_type": "display_data",
          "data": {
            "image/png": "[encoded data removed]",
            "text/plain": [
              "<Figure size 432x288 with 1 Axes>"
            ]
          },
          "metadata": {
            "needs_background": "light"
          }
        }
      ],
      "source": [
        "import numpy as np\n",
        "import matplotlib.pyplot as plt\n",
        "\n",
        "def step_function(x):\n",
        "    return np.array(x > 0, dtype=np.int)\n",
        "\n",
        "x = np.arange(-5.0, 5.0, 0.1)\n",
        "y = step_function(x)\n",
        "plt.plot(x, y)\n",
        "plt.ylim(-0.1, 1.1) # y축의 범위 지정\n",
        "plt.show()"
      ]
    },
    {
      "cell_type": "markdown",
      "metadata": {
        "id": "M2aUL2SIwLJ6"
      },
      "source": [
        "## **시그모이드 함수 구현하기**"
      ]
    },
    {
      "cell_type": "code",
      "execution_count": null,
      "metadata": {
        "id": "aPCDz2eiwUTu"
      },
      "outputs": [],
      "source": [
        "def sigmoid(x):\n",
        "    return 1 / (1 + np.exp(-x))"
      ]
    },
    {
      "cell_type": "code",
      "execution_count": null,
      "metadata": {
        "colab": {
          "base_uri": "https://localhost:8080/"
        },
        "id": "DsJ_Ju4dwXaK",
        "outputId": "ed322843-7722-425c-dd77-4c02ddff5c95"
      },
      "outputs": [
        {
          "output_type": "execute_result",
          "data": {
            "text/plain": [
              "array([0.26894142, 0.73105858, 0.88079708])"
            ]
          },
          "metadata": {},
          "execution_count": 8
        }
      ],
      "source": [
        "x = np.array([-1.0, 1.0, 2.0])\n",
        "sigmoid(x)"
      ]
    },
    {
      "cell_type": "code",
      "execution_count": null,
      "metadata": {
        "colab": {
          "base_uri": "https://localhost:8080/"
        },
        "id": "WiLl1WHCwcrN",
        "outputId": "f67c42af-0c1f-4fd9-eb98-c98564d250a1"
      },
      "outputs": [
        {
          "output_type": "execute_result",
          "data": {
            "text/plain": [
              "array([2., 3., 4.])"
            ]
          },
          "metadata": {},
          "execution_count": 9
        }
      ],
      "source": [
        "# 넘파이의 브로드캐스트 기능\n",
        "t = np.array([1.0, 2.0, 3.0])\n",
        "1.0 + t"
      ]
    },
    {
      "cell_type": "code",
      "execution_count": null,
      "metadata": {
        "colab": {
          "base_uri": "https://localhost:8080/"
        },
        "id": "8JkRKe2kwmtr",
        "outputId": "22ef0e7a-49d9-45b6-f667-a503df3e6264"
      },
      "outputs": [
        {
          "output_type": "execute_result",
          "data": {
            "text/plain": [
              "array([1.        , 0.5       , 0.33333333])"
            ]
          },
          "metadata": {},
          "execution_count": 10
        }
      ],
      "source": [
        "1.0 / t"
      ]
    },
    {
      "cell_type": "code",
      "execution_count": null,
      "metadata": {
        "colab": {
          "base_uri": "https://localhost:8080/",
          "height": 265
        },
        "id": "I8lIAz68wniO",
        "outputId": "5ebc2e38-51e8-4d72-ca09-65a374497e81"
      },
      "outputs": [
        {
          "output_type": "display_data",
          "data": {
            "image/png": "[encoded data removed]",
            "text/plain": [
              "<Figure size 432x288 with 1 Axes>"
            ]
          },
          "metadata": {
            "needs_background": "light"
          }
        }
      ],
      "source": [
        "x = np.arange(-5.0, 5.0, 0.1)\n",
        "y = sigmoid(x)\n",
        "plt.plot(x, y)\n",
        "plt.ylim(-0.1, 1.1)\n",
        "plt.show()"
      ]
    },
    {
      "cell_type": "code",
      "execution_count": null,
      "metadata": {
        "colab": {
          "base_uri": "https://localhost:8080/"
        },
        "id": "AKYRyvFDwvuS",
        "outputId": "99f13bf3-2d56-47c3-ec91-cea66281bfbe"
      },
      "outputs": [
        {
          "output_type": "execute_result",
          "data": {
            "text/plain": [
              "array([0.00669285, 0.00739154, 0.00816257, 0.0090133 , 0.0099518 ,\n",
              "       0.01098694, 0.01212843, 0.01338692, 0.01477403, 0.0163025 ,\n",
              "       0.01798621, 0.01984031, 0.02188127, 0.02412702, 0.02659699,\n",
              "       0.02931223, 0.03229546, 0.03557119, 0.03916572, 0.04310725,\n",
              "       0.04742587, 0.05215356, 0.05732418, 0.06297336, 0.06913842,\n",
              "       0.07585818, 0.0831727 , 0.09112296, 0.09975049, 0.10909682,\n",
              "       0.11920292, 0.13010847, 0.14185106, 0.15446527, 0.16798161,\n",
              "       0.18242552, 0.19781611, 0.21416502, 0.23147522, 0.24973989,\n",
              "       0.26894142, 0.2890505 , 0.31002552, 0.33181223, 0.35434369,\n",
              "       0.37754067, 0.40131234, 0.42555748, 0.450166  , 0.47502081,\n",
              "       0.5       , 0.52497919, 0.549834  , 0.57444252, 0.59868766,\n",
              "       0.62245933, 0.64565631, 0.66818777, 0.68997448, 0.7109495 ,\n",
              "       0.73105858, 0.75026011, 0.76852478, 0.78583498, 0.80218389,\n",
              "       0.81757448, 0.83201839, 0.84553473, 0.85814894, 0.86989153,\n",
              "       0.88079708, 0.89090318, 0.90024951, 0.90887704, 0.9168273 ,\n",
              "       0.92414182, 0.93086158, 0.93702664, 0.94267582, 0.94784644,\n",
              "       0.95257413, 0.95689275, 0.96083428, 0.96442881, 0.96770454,\n",
              "       0.97068777, 0.97340301, 0.97587298, 0.97811873, 0.98015969,\n",
              "       0.98201379, 0.9836975 , 0.98522597, 0.98661308, 0.98787157,\n",
              "       0.98901306, 0.9900482 , 0.9909867 , 0.99183743, 0.99260846])"
            ]
          },
          "metadata": {},
          "execution_count": 12
        }
      ],
      "source": [
        "y"
      ]
    },
    {
      "cell_type": "markdown",
      "metadata": {
        "id": "kJ9Ln85rw2DA"
      },
      "source": [
        "## **ReLU 함수**"
      ]
    },
    {
      "cell_type": "code",
      "execution_count": null,
      "metadata": {
        "id": "iEe1FuiSxh7J"
      },
      "outputs": [],
      "source": [
        "# 최근들어 활성화 함수(activation function)으로 주로 이용하는 ReLU\n",
        "\n",
        "def relu(x):\n",
        "    return np.maximum(0, x)"
      ]
    },
    {
      "cell_type": "markdown",
      "metadata": {
        "id": "mx-YtZyfxuX-"
      },
      "source": [
        "## **다차원 배열**"
      ]
    },
    {
      "cell_type": "code",
      "execution_count": null,
      "metadata": {
        "colab": {
          "base_uri": "https://localhost:8080/"
        },
        "id": "YxXI9qTqyFPa",
        "outputId": "774daba1-95b7-4701-fd23-c3df4d3a1de7"
      },
      "outputs": [
        {
          "output_type": "stream",
          "name": "stdout",
          "text": [
            "[1 2 3 4]\n"
          ]
        }
      ],
      "source": [
        "# 1차원 배열\n",
        "\n",
        "import numpy as np\n",
        "A = np.array([1,2,3,4])\n",
        "print(A)"
      ]
    },
    {
      "cell_type": "code",
      "execution_count": null,
      "metadata": {
        "colab": {
          "base_uri": "https://localhost:8080/"
        },
        "id": "WWeCO8-xyMNO",
        "outputId": "a4f2f5c0-9207-4a24-e891-8caae5b29687"
      },
      "outputs": [
        {
          "output_type": "execute_result",
          "data": {
            "text/plain": [
              "1"
            ]
          },
          "metadata": {},
          "execution_count": 15
        }
      ],
      "source": [
        "np.ndim(A) # 배열의 차원수 확인"
      ]
    },
    {
      "cell_type": "code",
      "execution_count": null,
      "metadata": {
        "colab": {
          "base_uri": "https://localhost:8080/"
        },
        "id": "L6UZ1LPVyNcf",
        "outputId": "6d11543f-93ba-4b0c-b35d-4235b8e50efe"
      },
      "outputs": [
        {
          "output_type": "execute_result",
          "data": {
            "text/plain": [
              "(4,)"
            ]
          },
          "metadata": {},
          "execution_count": 16
        }
      ],
      "source": [
        "A.shape # 튜플을 반환"
      ]
    },
    {
      "cell_type": "code",
      "execution_count": null,
      "metadata": {
        "colab": {
          "base_uri": "https://localhost:8080/"
        },
        "id": "MHG7N7kYyOUx",
        "outputId": "b5765905-c0e2-4001-822c-126da6a1486c"
      },
      "outputs": [
        {
          "output_type": "execute_result",
          "data": {
            "text/plain": [
              "4"
            ]
          },
          "metadata": {},
          "execution_count": 17
        }
      ],
      "source": [
        "A.shape[0]"
      ]
    },
    {
      "cell_type": "code",
      "execution_count": null,
      "metadata": {
        "colab": {
          "base_uri": "https://localhost:8080/"
        },
        "id": "w-6CF5yxyQn9",
        "outputId": "e7c586f1-2222-43ff-8395-784b053c3114"
      },
      "outputs": [
        {
          "output_type": "stream",
          "name": "stdout",
          "text": [
            "[[1 2]\n",
            " [3 4]\n",
            " [5 6]]\n"
          ]
        }
      ],
      "source": [
        "# 2차원 배열\n",
        "\n",
        "B = np.array([[1,2], [3,4], [5,6]])\n",
        "print(B)"
      ]
    },
    {
      "cell_type": "code",
      "execution_count": null,
      "metadata": {
        "colab": {
          "base_uri": "https://localhost:8080/"
        },
        "id": "Q3pA4Lduycqh",
        "outputId": "dfdf7529-ff3e-4641-b8c7-a8a5141c38b8"
      },
      "outputs": [
        {
          "output_type": "execute_result",
          "data": {
            "text/plain": [
              "2"
            ]
          },
          "metadata": {},
          "execution_count": 19
        }
      ],
      "source": [
        "np.ndim(B)"
      ]
    },
    {
      "cell_type": "code",
      "execution_count": null,
      "metadata": {
        "colab": {
          "base_uri": "https://localhost:8080/"
        },
        "id": "dTgzMQswyeBJ",
        "outputId": "dda16f61-9031-4f04-ecbc-5b19044c14cf"
      },
      "outputs": [
        {
          "output_type": "execute_result",
          "data": {
            "text/plain": [
              "(3, 2)"
            ]
          },
          "metadata": {},
          "execution_count": 20
        }
      ],
      "source": [
        "B.shape"
      ]
    },
    {
      "cell_type": "markdown",
      "metadata": {
        "id": "Q8EFCQISyeyo"
      },
      "source": [
        "## **행렬의 곱**"
      ]
    },
    {
      "cell_type": "code",
      "execution_count": null,
      "metadata": {
        "colab": {
          "base_uri": "https://localhost:8080/"
        },
        "id": "M9pNEQF4ymO2",
        "outputId": "1cc4d78f-3b3c-4f0e-9e07-17dd134047bf"
      },
      "outputs": [
        {
          "output_type": "execute_result",
          "data": {
            "text/plain": [
              "(2, 2)"
            ]
          },
          "metadata": {},
          "execution_count": 21
        }
      ],
      "source": [
        "A = np.array([[1,2], [3,4]])\n",
        "A.shape"
      ]
    },
    {
      "cell_type": "code",
      "execution_count": null,
      "metadata": {
        "colab": {
          "base_uri": "https://localhost:8080/"
        },
        "id": "ewonJe2qyplZ",
        "outputId": "b7dcd008-ecd1-472b-cd98-a8a6e97eab9e"
      },
      "outputs": [
        {
          "output_type": "execute_result",
          "data": {
            "text/plain": [
              "(2, 2)"
            ]
          },
          "metadata": {},
          "execution_count": 22
        }
      ],
      "source": [
        "B = np.array([[5,6], [7,8]])\n",
        "B.shape"
      ]
    },
    {
      "cell_type": "code",
      "execution_count": null,
      "metadata": {
        "colab": {
          "base_uri": "https://localhost:8080/"
        },
        "id": "jyndqEzmysua",
        "outputId": "59a67055-267d-486e-b52d-197d69319d9b"
      },
      "outputs": [
        {
          "output_type": "execute_result",
          "data": {
            "text/plain": [
              "array([[19, 22],\n",
              "       [43, 50]])"
            ]
          },
          "metadata": {},
          "execution_count": 23
        }
      ],
      "source": [
        "np.dot(A, B) # 행렬의 곱이므로 피연산자의 순서가 다르면 결과도 다름"
      ]
    },
    {
      "cell_type": "code",
      "execution_count": null,
      "metadata": {
        "colab": {
          "base_uri": "https://localhost:8080/"
        },
        "id": "xchq2Qg3ytrE",
        "outputId": "0bc4422e-58da-443f-d5a0-b24aaf6c10e5"
      },
      "outputs": [
        {
          "output_type": "execute_result",
          "data": {
            "text/plain": [
              "(2, 3)"
            ]
          },
          "metadata": {},
          "execution_count": 24
        }
      ],
      "source": [
        "A = np.array([[1,2,3], [4,5,6]])\n",
        "A. shape"
      ]
    },
    {
      "cell_type": "code",
      "execution_count": null,
      "metadata": {
        "colab": {
          "base_uri": "https://localhost:8080/"
        },
        "id": "rw0Ho_t9y5vM",
        "outputId": "acad69fc-e886-471f-edb4-e16fee52ac21"
      },
      "outputs": [
        {
          "output_type": "execute_result",
          "data": {
            "text/plain": [
              "(3, 2)"
            ]
          },
          "metadata": {},
          "execution_count": 25
        }
      ],
      "source": [
        "B = np.array([[1,2], [3,4], [5,6]])\n",
        "B.shape"
      ]
    },
    {
      "cell_type": "code",
      "execution_count": null,
      "metadata": {
        "colab": {
          "base_uri": "https://localhost:8080/"
        },
        "id": "A5AnbQzly9JS",
        "outputId": "d744348a-2cd9-456d-db33-fb6695423a94"
      },
      "outputs": [
        {
          "output_type": "execute_result",
          "data": {
            "text/plain": [
              "array([[22, 28],\n",
              "       [49, 64]])"
            ]
          },
          "metadata": {},
          "execution_count": 26
        }
      ],
      "source": [
        "np.dot(A, B)"
      ]
    },
    {
      "cell_type": "code",
      "execution_count": null,
      "metadata": {
        "colab": {
          "base_uri": "https://localhost:8080/"
        },
        "id": "jWG58j59y-Td",
        "outputId": "4a95c211-b0c5-4d57-d601-1c1ca20ef5d8"
      },
      "outputs": [
        {
          "output_type": "execute_result",
          "data": {
            "text/plain": [
              "(3, 2)"
            ]
          },
          "metadata": {},
          "execution_count": 27
        }
      ],
      "source": [
        "A = np.array([[1,2], [3,4], [5,6]])\n",
        "A.shape"
      ]
    },
    {
      "cell_type": "code",
      "execution_count": null,
      "metadata": {
        "colab": {
          "base_uri": "https://localhost:8080/"
        },
        "id": "5UF1bqw6zMG2",
        "outputId": "c2954a1c-b5c4-4ec5-b985-05058f6ec72d"
      },
      "outputs": [
        {
          "output_type": "execute_result",
          "data": {
            "text/plain": [
              "(2,)"
            ]
          },
          "metadata": {},
          "execution_count": 28
        }
      ],
      "source": [
        "B = np.array([7,8])\n",
        "B.shape"
      ]
    },
    {
      "cell_type": "code",
      "execution_count": null,
      "metadata": {
        "colab": {
          "base_uri": "https://localhost:8080/"
        },
        "id": "F-AorWXqzPVs",
        "outputId": "6e786e29-9523-4721-982f-db974ae97e8d"
      },
      "outputs": [
        {
          "output_type": "execute_result",
          "data": {
            "text/plain": [
              "array([23, 53, 83])"
            ]
          },
          "metadata": {},
          "execution_count": 29
        }
      ],
      "source": [
        "np.dot(A, B)"
      ]
    },
    {
      "cell_type": "markdown",
      "metadata": {
        "id": "EmJWje9qzQki"
      },
      "source": [
        "## **신경망에서의 행렬 곱**"
      ]
    },
    {
      "cell_type": "code",
      "execution_count": null,
      "metadata": {
        "colab": {
          "base_uri": "https://localhost:8080/"
        },
        "id": "VBoLeEWSzWhT",
        "outputId": "e0943cdf-2a7d-4eb2-f763-f223c7510749"
      },
      "outputs": [
        {
          "output_type": "execute_result",
          "data": {
            "text/plain": [
              "(2,)"
            ]
          },
          "metadata": {},
          "execution_count": 30
        }
      ],
      "source": [
        "X = np.array([1,2])\n",
        "X.shape"
      ]
    },
    {
      "cell_type": "code",
      "execution_count": null,
      "metadata": {
        "colab": {
          "base_uri": "https://localhost:8080/"
        },
        "id": "wge6tgBFzvxe",
        "outputId": "f229dde2-70bd-41dc-b132-94b240e71aaa"
      },
      "outputs": [
        {
          "output_type": "stream",
          "name": "stdout",
          "text": [
            "[[1 3 5]\n",
            " [2 4 6]]\n"
          ]
        }
      ],
      "source": [
        "W = np.array([[1,3,5], [2,4,6]])\n",
        "print(W)"
      ]
    },
    {
      "cell_type": "code",
      "execution_count": null,
      "metadata": {
        "colab": {
          "base_uri": "https://localhost:8080/"
        },
        "id": "6z8iHgjlzzUS",
        "outputId": "eb8c7672-1cdf-4a5e-bf6a-934ee8b45ea9"
      },
      "outputs": [
        {
          "output_type": "execute_result",
          "data": {
            "text/plain": [
              "(2, 3)"
            ]
          },
          "metadata": {},
          "execution_count": 32
        }
      ],
      "source": [
        "W.shape"
      ]
    },
    {
      "cell_type": "code",
      "execution_count": null,
      "metadata": {
        "colab": {
          "base_uri": "https://localhost:8080/"
        },
        "id": "81A_5cxHz0rm",
        "outputId": "2ddad4e2-fb2c-4212-f334-df789dd2cbf7"
      },
      "outputs": [
        {
          "output_type": "stream",
          "name": "stdout",
          "text": [
            "[ 5 11 17]\n"
          ]
        }
      ],
      "source": [
        "Y = np.dot(X, W) # 결과 Y의 계산을 간단하게 해주는 행렬의 곱\n",
        "print(Y)"
      ]
    },
    {
      "cell_type": "markdown",
      "metadata": {
        "id": "1iMggyTlz5Ch"
      },
      "source": [
        "## **각 층의 신호 전달 구현하기**"
      ]
    },
    {
      "cell_type": "code",
      "execution_count": null,
      "metadata": {
        "colab": {
          "base_uri": "https://localhost:8080/"
        },
        "id": "UxGCA_s80waF",
        "outputId": "138df04b-235e-4391-d9b7-a065e42b864b"
      },
      "outputs": [
        {
          "output_type": "stream",
          "name": "stdout",
          "text": [
            "(2, 3)\n",
            "(2,)\n",
            "(3,)\n"
          ]
        }
      ],
      "source": [
        "# 입력층에서 1층으로 신호 전달\n",
        "\n",
        "X = np.array([1.0, 0.5])\n",
        "W1 = np.array([[0.1, 0.3, 0.5], [0.2, 0.4, 0.6]])\n",
        "B1 = np.array([0.1, 0.2, 0.3])\n",
        "\n",
        "print(W1.shape) # (2, 3)\n",
        "print(X.shape) # (2,)\n",
        "print(B1.shape) # (3,)\n",
        "\n",
        "A1 = np.dot(X, W1) + B1"
      ]
    },
    {
      "cell_type": "code",
      "execution_count": null,
      "metadata": {
        "colab": {
          "base_uri": "https://localhost:8080/"
        },
        "id": "DMKKBlqE1AJc",
        "outputId": "deb5bbfe-97be-42a1-ab5c-6ac0e4177a49"
      },
      "outputs": [
        {
          "output_type": "stream",
          "name": "stdout",
          "text": [
            "[0.3 0.7 1.1]\n",
            "[0.57444252 0.66818777 0.75026011]\n"
          ]
        }
      ],
      "source": [
        "# 활성화 함수의 처리\n",
        "\n",
        "Z1 = sigmoid(A1)\n",
        "\n",
        "print(A1)\n",
        "print(Z1) "
      ]
    },
    {
      "cell_type": "code",
      "execution_count": null,
      "metadata": {
        "colab": {
          "base_uri": "https://localhost:8080/"
        },
        "id": "NROZ5a8k1d58",
        "outputId": "4faeb4c9-a02d-447a-c30b-37835d9fe7ca"
      },
      "outputs": [
        {
          "output_type": "stream",
          "name": "stdout",
          "text": [
            "(3,)\n",
            "(3, 2)\n",
            "(2,)\n"
          ]
        }
      ],
      "source": [
        "# 1층에서 2층으로의 신호 전달\n",
        "\n",
        "W2 = np.array([[0.1, 0.4], [0.2, 0.5], [0.3, 0.6]])\n",
        "B2 = np.array([0.1, 0.2])\n",
        "\n",
        "print(Z1.shape)\n",
        "print(W2.shape)\n",
        "print(B2.shape)\n",
        "\n",
        "A2 = np.dot(Z1, W2) + B2\n",
        "Z2 = sigmoid(A2)"
      ]
    },
    {
      "cell_type": "code",
      "execution_count": null,
      "metadata": {
        "id": "6OYXMNPf198y"
      },
      "outputs": [],
      "source": [
        "# 2층에서 출력층으로의 신호 전달\n",
        "\n",
        "def identity_function(x): # 활성화 함수로 항등 함수를 이용\n",
        "    return x\n",
        "\n",
        "W3 = np.array([[0.1, 0.3], [0.2, 0.4]])\n",
        "B3 = np.array([0.1, 0.2])\n",
        "\n",
        "A3 = np.dot(Z2, W3) + B3\n",
        "Y = identity_function(A3)\n",
        "\n",
        "# 출력층의 활성화 함수는 풀고자하는 문제의 성질에 맞게 사용\n",
        "# 일반적으로 회귀->항등 함수 / 이진클래스 분류->시그모이드 함수 / 다중클래스 분류->소프트맥스 함수"
      ]
    },
    {
      "cell_type": "markdown",
      "metadata": {
        "id": "8z0yvCBF2SFk"
      },
      "source": [
        "## **구현 정리**"
      ]
    },
    {
      "cell_type": "code",
      "execution_count": null,
      "metadata": {
        "colab": {
          "base_uri": "https://localhost:8080/"
        },
        "id": "Z1G8_fAB2rnh",
        "outputId": "2382a183-3cee-43a4-d962-ddea3e43cdbc"
      },
      "outputs": [
        {
          "output_type": "stream",
          "name": "stdout",
          "text": [
            "[0.31682708 0.69627909]\n"
          ]
        }
      ],
      "source": [
        "def init_network(): # 딕셔너리 변수 network에 각 층에 필요한 매개변수(가중치와 편향)를 저장\n",
        "    network = {}\n",
        "    network['W1'] = np.array([[0.1, 0.3, 0.5], [0.2, 0.4, 0.6]])\n",
        "    network['b1'] = np.array([0.1, 0.2, 0.3])\n",
        "    network['W2'] = np.array([[0.1, 0.4], [0.2, 0.5], [0.3, 0.6]])\n",
        "    network['b2'] = np.array([0.1, 0.2])\n",
        "    network['W3'] = np.array([[0.1, 0.3], [0.2, 0.4]])\n",
        "    network['b3'] = np.array([0.1, 0.2])\n",
        "\n",
        "    return network\n",
        "\n",
        "def forward(network, x): # 신호가 순방향(입력에서 출력 방향)으로 전달됨(순전파)을 알리기 위함\n",
        "    W1, W2, W3 = network['W1'], network['W2'], network['W3']\n",
        "    b1, b2, b3 = network['b1'], network['b2'], network['b3']\n",
        "\n",
        "    a1 = np.dot(x, W1) + b1\n",
        "    z1 = sigmoid(a1)\n",
        "    a2 = np.dot(z1, W2) + b2\n",
        "    z2 = sigmoid(a2)\n",
        "    a3 = np.dot(z2, W3) + b3\n",
        "    y = identity_function(a3)\n",
        "\n",
        "    return y\n",
        "\n",
        "network = init_network()\n",
        "x = np.array([1.0, 0.5])\n",
        "y = forward(network, x)\n",
        "print(y)"
      ]
    },
    {
      "cell_type": "markdown",
      "metadata": {
        "id": "RfkeH6go3mwh"
      },
      "source": [
        "## **항등 함수와 소프트맥스 함수 구현하기**"
      ]
    },
    {
      "cell_type": "code",
      "execution_count": null,
      "metadata": {
        "colab": {
          "base_uri": "https://localhost:8080/"
        },
        "id": "KSa0-Dr63p9t",
        "outputId": "c73b5b1f-bd86-48db-9fe6-ea5aa7e13957"
      },
      "outputs": [
        {
          "output_type": "stream",
          "name": "stdout",
          "text": [
            "[ 1.34985881 18.17414537 54.59815003]\n"
          ]
        }
      ],
      "source": [
        "# 소프트맥스 함수 구현\n",
        "\n",
        "a = np.array([0.3, 2.9, 4.0])\n",
        "exp_a = np.exp(a) # 지수 함수\n",
        "print(exp_a)"
      ]
    },
    {
      "cell_type": "code",
      "execution_count": null,
      "metadata": {
        "colab": {
          "base_uri": "https://localhost:8080/"
        },
        "id": "1mRZYnVA42Tv",
        "outputId": "34a70dbb-0d56-4033-dab5-ed1b793d7699"
      },
      "outputs": [
        {
          "output_type": "stream",
          "name": "stdout",
          "text": [
            "74.1221542101633\n"
          ]
        }
      ],
      "source": [
        "sum_exp_a = np.sum(exp_a) # 지수 함수의 합\n",
        "print(sum_exp_a)"
      ]
    },
    {
      "cell_type": "code",
      "execution_count": null,
      "metadata": {
        "colab": {
          "base_uri": "https://localhost:8080/"
        },
        "id": "1xCSpHNm46n3",
        "outputId": "9c0fdcf0-5956-42d2-cc30-47753e52aba6"
      },
      "outputs": [
        {
          "output_type": "stream",
          "name": "stdout",
          "text": [
            "[0.01821127 0.24519181 0.73659691]\n"
          ]
        }
      ],
      "source": [
        "y = exp_a / sum_exp_a\n",
        "print(y)"
      ]
    },
    {
      "cell_type": "code",
      "execution_count": null,
      "metadata": {
        "id": "VkFwWRoR480s"
      },
      "outputs": [],
      "source": [
        "def softmax(a):\n",
        "    exp_a = np.exp(a)\n",
        "    sum_exp_a = np.sum(exp_a)\n",
        "    y = exp_a / sum_exp_a\n",
        "\n",
        "    return y"
      ]
    },
    {
      "cell_type": "markdown",
      "metadata": {
        "id": "wof8P6IQ5GDA"
      },
      "source": [
        "## **소프트맥스 함수 구현 시 주의점**"
      ]
    },
    {
      "cell_type": "code",
      "execution_count": null,
      "metadata": {
        "colab": {
          "base_uri": "https://localhost:8080/"
        },
        "id": "NOPAK2LE5baO",
        "outputId": "e949b213-4fae-4c5f-ea78-6fdf4ddf1999"
      },
      "outputs": [
        {
          "output_type": "stream",
          "name": "stderr",
          "text": [
            "/usr/local/lib/python3.7/dist-packages/ipykernel_launcher.py:2: RuntimeWarning: overflow encountered in exp\n",
            "  \n",
            "/usr/local/lib/python3.7/dist-packages/ipykernel_launcher.py:2: RuntimeWarning: invalid value encountered in true_divide\n",
            "  \n"
          ]
        },
        {
          "output_type": "execute_result",
          "data": {
            "text/plain": [
              "array([nan, nan, nan])"
            ]
          },
          "metadata": {},
          "execution_count": 43
        }
      ],
      "source": [
        "a = np.array([1010, 1000, 990])\n",
        "np.exp(a) / np.sum(np.exp(a)) # 소프트맥스 함수의 계산"
      ]
    },
    {
      "cell_type": "code",
      "execution_count": null,
      "metadata": {
        "colab": {
          "base_uri": "https://localhost:8080/"
        },
        "id": "OA5fXSBw5hWe",
        "outputId": "644c4b45-bf7c-4c5d-8b40-ccad5f1bd92d"
      },
      "outputs": [
        {
          "output_type": "execute_result",
          "data": {
            "text/plain": [
              "array([  0, -10, -20])"
            ]
          },
          "metadata": {},
          "execution_count": 44
        }
      ],
      "source": [
        "# 오버플로의 문제로 인하여 제대로 계산되지 않는다.\n",
        "# 오버플로를 막을 목적으로 입력신호 중 최댓값을 C로 이용한다.\n",
        "\n",
        "c = np.max(a)\n",
        "a - c"
      ]
    },
    {
      "cell_type": "code",
      "execution_count": null,
      "metadata": {
        "colab": {
          "base_uri": "https://localhost:8080/"
        },
        "id": "KcBKeZ8f5t0Q",
        "outputId": "5e01583c-1970-4a2a-d9fd-02c2390d8d30"
      },
      "outputs": [
        {
          "output_type": "execute_result",
          "data": {
            "text/plain": [
              "array([9.99954600e-01, 4.53978686e-05, 2.06106005e-09])"
            ]
          },
          "metadata": {},
          "execution_count": 45
        }
      ],
      "source": [
        "np.exp(a-c) / np.sum(np.exp(a-c))"
      ]
    },
    {
      "cell_type": "code",
      "execution_count": null,
      "metadata": {
        "id": "1VlHOzXX5xxq"
      },
      "outputs": [],
      "source": [
        "def softmax(a):\n",
        "    c = np.max(a)\n",
        "    exp_a = np.exp(a-c) # 오버플로 대책\n",
        "    sum_exp_a = np.sum(exp_a)\n",
        "    y = exp_a / sum_exp_a\n",
        "\n",
        "    return y"
      ]
    },
    {
      "cell_type": "markdown",
      "metadata": {
        "id": "cVbt9ITN56G6"
      },
      "source": [
        "## **소프트맥스 함수의 특징**"
      ]
    },
    {
      "cell_type": "code",
      "execution_count": null,
      "metadata": {
        "colab": {
          "base_uri": "https://localhost:8080/"
        },
        "id": "3T2pT10y58xL",
        "outputId": "22cd5b3d-f902-4796-eba3-c2d82285d45f"
      },
      "outputs": [
        {
          "output_type": "stream",
          "name": "stdout",
          "text": [
            "[0.01821127 0.24519181 0.73659691]\n"
          ]
        }
      ],
      "source": [
        "a = np.array([0.3, 2.9, 4.0])\n",
        "y = softmax(a)\n",
        "print(y)"
      ]
    },
    {
      "cell_type": "code",
      "execution_count": null,
      "metadata": {
        "colab": {
          "base_uri": "https://localhost:8080/"
        },
        "id": "jidnyYB26BEj",
        "outputId": "5f21fc32-5148-4dbf-b031-60d0c2b78a3a"
      },
      "outputs": [
        {
          "output_type": "execute_result",
          "data": {
            "text/plain": [
              "1.0"
            ]
          },
          "metadata": {},
          "execution_count": 48
        }
      ],
      "source": [
        "np.sum(y)"
      ]
    },
    {
      "cell_type": "markdown",
      "metadata": {
        "id": "wYjOlt2A6E5i"
      },
      "source": [
        "* 소프트맥스 함수의 출력은 0에서 1사이의 실수\n",
        "\n",
        "* 소프트맥스 함수의 출력의 총합은 1\n",
        "\n",
        "* 따라서 소프트맥스 함수의 출력을 '확률'로 해석할 수 있음\n",
        "\n",
        "* 소프트맥스 함수는 단조 증가 함수이므로 활성화 함수로 적용하여도 각 원소의 대소관계는 변하지 않음\n",
        "\n",
        "* 따라서 예로 클래스분류에서 1,2,3번째 원소 중 2번쨰 원소의 확률이 가장 높다면, 답은 2번째 클래스다 라고 할 수있음(문제를 확률적으로 대응)\n",
        "\n",
        "* 신경망의 학습 단계에서는 출력층에서 소프트맥스 함수를 사용하지만, 추론 단계에서는 출력층의 소프트맥스 함수를 생략하는 것이 일반적임"
      ]
    },
    {
      "cell_type": "markdown",
      "source": [
        "## **MNIST 데이터셋**"
      ],
      "metadata": {
        "id": "fOmkOGTAMCUP"
      }
    },
    {
      "cell_type": "code",
      "execution_count": null,
      "metadata": {
        "id": "Q52tMDj66zUc",
        "colab": {
          "base_uri": "https://localhost:8080/"
        },
        "outputId": "9f2c4829-69b1-4159-dee8-89bee6a12325"
      },
      "outputs": [
        {
          "output_type": "stream",
          "name": "stdout",
          "text": [
            "Drive already mounted at /content/drive; to attempt to forcibly remount, call drive.mount(\"/content/drive\", force_remount=True).\n"
          ]
        }
      ],
      "source": [
        "from google.colab import drive\n",
        "drive.mount('/content/drive')"
      ]
    },
    {
      "cell_type": "code",
      "execution_count": null,
      "metadata": {
        "id": "SWQpYb0X-dca"
      },
      "outputs": [],
      "source": [
        "import sys, os\n",
        "sys.path.append(\"/content/drive/MyDrive/밑바닥부터시작하는딥러닝/github_hanbit/deep-learning-from-scratch-master\")\n",
        "\n",
        "from dataset.mnist import load_mnist"
      ]
    },
    {
      "cell_type": "code",
      "execution_count": null,
      "metadata": {
        "id": "4yCNpc3L-6EN",
        "colab": {
          "base_uri": "https://localhost:8080/"
        },
        "outputId": "34e161ae-4ec1-4a3e-cd6c-e78c0e759058"
      },
      "outputs": [
        {
          "output_type": "stream",
          "name": "stdout",
          "text": [
            "Converting train-images-idx3-ubyte.gz to NumPy Array ...\n",
            "Done\n",
            "Converting train-labels-idx1-ubyte.gz to NumPy Array ...\n",
            "Done\n",
            "Converting t10k-images-idx3-ubyte.gz to NumPy Array ...\n",
            "Done\n",
            "Converting t10k-labels-idx1-ubyte.gz to NumPy Array ...\n",
            "Done\n",
            "Creating pickle file ...\n",
            "Done!\n",
            "(60000, 784)\n",
            "(60000,)\n",
            "(10000, 784)\n",
            "(10000,)\n"
          ]
        }
      ],
      "source": [
        "# 처음 한 번은 몇 분 정도 걸립니다.\n",
        "(x_train, t_train), (x_test, t_test) = \\\n",
        "load_mnist(flatten=True, normalize=False)\n",
        "\n",
        "# 각 데이터의 형상 출력\n",
        "print(x_train.shape)\n",
        "print(t_train.shape)\n",
        "print(x_test.shape)\n",
        "print(t_test.shape)"
      ]
    },
    {
      "cell_type": "code",
      "source": [
        "import sys, os\n",
        "sys.path.append(os.pardir)\n",
        "\n",
        "import numpy as np\n",
        "from dataset.mnist import load_mnist\n",
        "from PIL import Image\n",
        "import pickle\n",
        "\n",
        "\n",
        "def img_show(img):\n",
        "    pil_img = Image.fromarray(np.uint8(img))\n",
        "    pil_img.show()\n",
        "\n",
        "(x_train, t_train), (x_test, t_test) = load_mnist(flatten=True, normalize=False)\n",
        "\n",
        "img = x_train[0]\n",
        "label = t_train[0]\n",
        "print(label)  # 5\n",
        "\n",
        "print(img.shape)  # 이미지 크기가 28*28=784 이므로 입력층 뉴런이 784\n",
        "img = img.reshape(28, 28)  # 형상을 원래 이미지의 크기로 변형\n",
        "print(img.shape)\n",
        "\n",
        "img_show(img)"
      ],
      "metadata": {
        "colab": {
          "base_uri": "https://localhost:8080/"
        },
        "id": "tTmNK1jzJOV7",
        "outputId": "b7168cfa-d6cf-4add-c428-6537f2a74745"
      },
      "execution_count": null,
      "outputs": [
        {
          "output_type": "stream",
          "name": "stdout",
          "text": [
            "5\n",
            "(784,)\n",
            "(28, 28)\n"
          ]
        }
      ]
    },
    {
      "cell_type": "markdown",
      "source": [
        "## **신경망의 추론 처리**"
      ],
      "metadata": {
        "id": "lMCKI1lZMH59"
      }
    },
    {
      "cell_type": "code",
      "source": [
        "path = \"/content/drive/MyDrive/밑바닥부터시작하는딥러닝/github_hanbit/deep-learning-from-scratch-master\"\n",
        "\n",
        "def get_data():\n",
        "    (x_train, t_train), (x_test, t_test) = load_mnist(normalize=True, flatten=True, one_hot_label=False)\n",
        "    return x_test, t_test\n",
        "\n",
        "\n",
        "def init_network():\n",
        "    with open(path+\"/ch03/sample_weight.pkl\", 'rb') as f:\n",
        "        network = pickle.load(f) # pickle 파일에 저장된 '학습된 가중치 매개변수'를 읽음\n",
        "    return network\n",
        "\n",
        "\n",
        "def predict(network, x):\n",
        "    W1, W2, W3 = network['W1'], network['W2'], network['W3']\n",
        "    b1, b2, b3 = network['b1'], network['b2'], network['b3']\n",
        "\n",
        "    a1 = np.dot(x, W1) + b1\n",
        "    z1 = sigmoid(a1)\n",
        "    a2 = np.dot(z1, W2) + b2\n",
        "    z2 = sigmoid(a2)\n",
        "    a3 = np.dot(z2, W3) + b3\n",
        "    y = softmax(a3)\n",
        "\n",
        "    return y\n"
      ],
      "metadata": {
        "id": "nVNs1u40J8iE"
      },
      "execution_count": null,
      "outputs": []
    },
    {
      "cell_type": "code",
      "source": [
        "x, t = get_data()\n",
        "network = init_network()\n",
        "accuracy_cnt = 0\n",
        "for i in range(len(x)):\n",
        "    y = predict(network, x[i]) # 각 레이블의 확률을 넘파이 배열로 반환\n",
        "    p= np.argmax(y) # 확률이 가장 높은 원소의 인덱스를 얻는다.\n",
        "    if p == t[i]:\n",
        "        accuracy_cnt += 1\n",
        "\n",
        "print(\"Accuracy:\" + str(float(accuracy_cnt) / len(x)))"
      ],
      "metadata": {
        "colab": {
          "base_uri": "https://localhost:8080/"
        },
        "id": "t2-DeMXOKzsb",
        "outputId": "cf55e9dd-ff4c-4b95-e856-9c3655c57e64"
      },
      "execution_count": null,
      "outputs": [
        {
          "output_type": "stream",
          "name": "stdout",
          "text": [
            "Accuracy:0.9352\n"
          ]
        }
      ]
    },
    {
      "cell_type": "markdown",
      "source": [
        "## **배치 처리**"
      ],
      "metadata": {
        "id": "jyM8Zn3qK21Z"
      }
    },
    {
      "cell_type": "code",
      "source": [
        "x, _ = get_data()\n",
        "network = init_network()\n",
        "W1, W2, W3 = network['W1'], network['W2'], network['W3']\n",
        "\n",
        "x.shape"
      ],
      "metadata": {
        "colab": {
          "base_uri": "https://localhost:8080/"
        },
        "id": "IwW5HACSMNCP",
        "outputId": "c7cccebd-41bc-49da-bc13-b464a0f08424"
      },
      "execution_count": null,
      "outputs": [
        {
          "output_type": "execute_result",
          "data": {
            "text/plain": [
              "(10000, 784)"
            ]
          },
          "metadata": {},
          "execution_count": 68
        }
      ]
    },
    {
      "cell_type": "code",
      "source": [
        "x[0].shape"
      ],
      "metadata": {
        "colab": {
          "base_uri": "https://localhost:8080/"
        },
        "id": "n6STwfPFMVws",
        "outputId": "c890f396-1568-45b0-90ab-5d46066e4c22"
      },
      "execution_count": null,
      "outputs": [
        {
          "output_type": "execute_result",
          "data": {
            "text/plain": [
              "(784,)"
            ]
          },
          "metadata": {},
          "execution_count": 69
        }
      ]
    },
    {
      "cell_type": "code",
      "source": [
        "W1.shape # 가중치의 크기는 임의로 정한것"
      ],
      "metadata": {
        "colab": {
          "base_uri": "https://localhost:8080/"
        },
        "id": "k8zRDBgEMXpX",
        "outputId": "46e0f0f1-2351-47ce-c10c-2deaec83556f"
      },
      "execution_count": null,
      "outputs": [
        {
          "output_type": "execute_result",
          "data": {
            "text/plain": [
              "(784, 50)"
            ]
          },
          "metadata": {},
          "execution_count": 70
        }
      ]
    },
    {
      "cell_type": "code",
      "source": [
        "W2.shape"
      ],
      "metadata": {
        "colab": {
          "base_uri": "https://localhost:8080/"
        },
        "id": "s2NSerA-MYrE",
        "outputId": "15454dc4-85df-4bd6-ffd4-5b37f7268837"
      },
      "execution_count": null,
      "outputs": [
        {
          "output_type": "execute_result",
          "data": {
            "text/plain": [
              "(50, 100)"
            ]
          },
          "metadata": {},
          "execution_count": 71
        }
      ]
    },
    {
      "cell_type": "code",
      "source": [
        "W3.shape"
      ],
      "metadata": {
        "colab": {
          "base_uri": "https://localhost:8080/"
        },
        "id": "8QVwaI7BMdnc",
        "outputId": "f8848861-d52f-47d9-a9e4-2bf19d0cdec1"
      },
      "execution_count": null,
      "outputs": [
        {
          "output_type": "execute_result",
          "data": {
            "text/plain": [
              "(100, 10)"
            ]
          },
          "metadata": {},
          "execution_count": 72
        }
      ]
    },
    {
      "cell_type": "markdown",
      "source": [
        "* 하나로 묶은 입력데이터를 **배치(batch)** 라고 함\n",
        "\n",
        "* 배치 처리는 컴퓨터로 계산할 때 큰 이점을 줌\n",
        "\n",
        "    * 수치 계산 라이브러리 대부분이 큰 배여을 효율적으로 처리할 수 있도록 고도로 최적화 되어있음\n",
        "    * 느린 I/O를 통해 데이터를 읽는 횟수가 줄어, 빠른 CPU나 GPU로 순수 계산을 수행하는 비율이 높아짐\n",
        "\n",
        "* 배치 처리를 수행함으로써 큰 배열로 이뤄진 계산을 하게 되는데, 컴퓨터에서는 큰 배열을 한꺼번에 계산 하는 것이 작은 배열을 여러 번 계산하는 것보다 빠름"
      ],
      "metadata": {
        "id": "2QBlFlW5MfDE"
      }
    },
    {
      "cell_type": "code",
      "source": [
        "x, t = get_data()\n",
        "network = init_network()\n",
        "\n",
        "batch_size = 100 # 배치 크기\n",
        "accuracy_cnt = 0\n",
        "\n",
        "for i in range(0, len(x), batch_size):\n",
        "    x_batch = x[i:i+batch_size] # x[0:100], x[100:200], x[200:300] ~\n",
        "    y_batch = predict(network, x_batch)\n",
        "    p = np.argmax(y_batch, axis=1) # 최댓값의 인덱스를 찾음\n",
        "    accuracy_cnt += np.sum(p == t[i:i+batch_size])\n",
        "\n",
        "print(\"Accuracy:\" + str(float(accuracy_cnt)/ len(x)))"
      ],
      "metadata": {
        "colab": {
          "base_uri": "https://localhost:8080/"
        },
        "id": "L_Ts9KF5NEk2",
        "outputId": "5d4cafc8-ae39-4b23-ec3c-a09c82b9933c"
      },
      "execution_count": null,
      "outputs": [
        {
          "output_type": "stream",
          "name": "stdout",
          "text": [
            "Accuracy:0.9352\n"
          ]
        }
      ]
    },
    {
      "cell_type": "code",
      "source": [
        "# argmax의 예시\n",
        "\n",
        "x = np.array([[0.1, 0.8, 0.1], [0.3, 0.1, 0.6], [0.2, 0.5, 0.3], [0.8, 0.1, 0.1]])\n",
        "y = np.argmax(x, axis=1)\n",
        "print(y)"
      ],
      "metadata": {
        "colab": {
          "base_uri": "https://localhost:8080/"
        },
        "id": "gZ2DWQucNrXr",
        "outputId": "f0ba869d-fcc1-46d5-f9cc-e3d7b22e5c5c"
      },
      "execution_count": null,
      "outputs": [
        {
          "output_type": "stream",
          "name": "stdout",
          "text": [
            "[1 2 1 0]\n"
          ]
        }
      ]
    },
    {
      "cell_type": "markdown",
      "source": [
        "# **정리**\n",
        "\n",
        "* **신경망에서는 활성화 함수로 시그모이드 함수와 ReLU 함수 같은 매끄럽게 변화하는 함수를 이용한다.**\n",
        "\n",
        "* **넘파이의 다차원 배열을 잘 사용하면 신경망을 효율적으로 구현할 수 있다.**\n",
        "\n",
        "* **기계학습 문제는 크게 회귀와 분류로 나눌 수 있다.**\n",
        "\n",
        "* **출력층의 활성화 함수로는 회귀에서는 주로 항등 함수를, 분류에서는 주로 소프트맥스 함수를 이용한다.**\n",
        "\n",
        "* **분류에서는 출력층의 뉴런 수를 분류하려는 클래스 수와 같게 설정한다.**\n",
        "\n",
        "* **입력 데이터를 묶은 것을 배치로 하며, 추론 처리를 이 배치 단위로 진행하면 결과를 훨씬 빠르게 얻을 수 있다.**"
      ],
      "metadata": {
        "id": "pTSZXzLdONc6"
      }
    },
    {
      "cell_type": "code",
      "source": [
        ""
      ],
      "metadata": {
        "id": "71argAlCOuz5"
      },
      "execution_count": null,
      "outputs": []
    }
  ],
  "metadata": {
    "colab": {
      "collapsed_sections": [],
      "name": "Chap3_Neural_network.ipynb",
      "provenance": [],
      "authorship_tag": "ABX9TyOsXsGZy1SuKPPdjd6l1PlD"
    },
    "kernelspec": {
      "display_name": "Python 3",
      "name": "python3"
    },
    "language_info": {
      "name": "python"
    }
  },
  "nbformat": 4,
  "nbformat_minor": 0
}
